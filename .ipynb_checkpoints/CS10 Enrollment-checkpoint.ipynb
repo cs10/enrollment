{
 "metadata": {
  "name": "",
  "signature": "sha256:64f5ec2659152d65de8526be2eda45325c52fc8752acab61c87c9431e0086f58"
 },
 "nbformat": 3,
 "nbformat_minor": 0,
 "worksheets": []
}