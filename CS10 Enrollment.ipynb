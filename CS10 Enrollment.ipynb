{
 "metadata": {
  "name": "",
  "signature": "sha256:357c0cd3f3572cde46a4a456361de68295000fa96b0a5889a2e6f304a2e402d6"
 },
 "nbformat": 3,
 "nbformat_minor": 0,
 "worksheets": [
  {
   "cells": [
    {
     "cell_type": "code",
     "collapsed": false,
     "input": [
      "import pandas as pd\n",
      "FILES_DIR = './cs10_telebears/'"
     ],
     "language": "python",
     "metadata": {},
     "outputs": [],
     "prompt_number": 2
    },
    {
     "cell_type": "code",
     "collapsed": false,
     "input": [
      "pd.io."
     ],
     "language": "python",
     "metadata": {},
     "outputs": []
    }
   ],
   "metadata": {}
  }
 ]
}